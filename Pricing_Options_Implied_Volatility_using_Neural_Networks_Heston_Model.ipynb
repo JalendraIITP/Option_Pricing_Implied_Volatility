{
  "nbformat": 4,
  "nbformat_minor": 0,
  "metadata": {
    "colab": {
      "provenance": [],
      "gpuType": "T4"
    },
    "kernelspec": {
      "name": "python3",
      "display_name": "Python 3"
    },
    "language_info": {
      "name": "python"
    },
    "accelerator": "GPU"
  },
  "cells": [
    {
      "cell_type": "markdown",
      "source": [
        "**Pricing options and computing implied volatilities\n",
        "using neural networks**"
      ],
      "metadata": {
        "id": "YNx6xC5n_tRK"
      }
    },
    {
      "cell_type": "markdown",
      "source": [
        "## Option Pricing using Heston Method"
      ],
      "metadata": {
        "id": "rntXMh3wUe2q"
      }
    },
    {
      "cell_type": "code",
      "source": [
        "!pip -q install colorama\n",
        "!pip -q install pyDOE"
      ],
      "metadata": {
        "id": "keIVdhk9sy8H"
      },
      "execution_count": 1,
      "outputs": []
    },
    {
      "cell_type": "code",
      "execution_count": 2,
      "metadata": {
        "id": "WQ3CqC0YUQGY"
      },
      "outputs": [],
      "source": [
        "import torch\n",
        "import warnings\n",
        "import numpy as np\n",
        "import pandas as pd\n",
        "import torch.nn as nn\n",
        "import torch.optim as optim\n",
        "import torch.nn.init as init\n",
        "from scipy.stats import norm\n",
        "import matplotlib.pyplot as plt\n",
        "from sklearn.preprocessing import MinMaxScaler\n",
        "from sklearn.model_selection import train_test_split\n",
        "from torch.utils.data import TensorDataset, DataLoader\n",
        "from tqdm import tqdm\n",
        "from pyDOE import lhs\n",
        "from sklearn.metrics import mean_squared_error, mean_absolute_error, r2_score\n",
        "from colorama import Fore, Style"
      ]
    },
    {
      "cell_type": "code",
      "source": [
        "device = torch.device(\"cuda\" if torch.cuda.is_available() else \"cpu\")\n",
        "warnings.filterwarnings(\"ignore\", category=UserWarning, message=\".*target size.*different to the input size.*\")"
      ],
      "metadata": {
        "id": "gJQahslOe0VZ"
      },
      "execution_count": 3,
      "outputs": []
    },
    {
      "cell_type": "markdown",
      "source": [
        "*Table 2. The Selected Model After the Random Search*\n",
        "\n",
        "<div>\n",
        "    <style>\n",
        "        table {\n",
        "            border-collapse: collapse;\n",
        "            width: 50%;\n",
        "            margin: 20px auto;\n",
        "            font-family: Arial, sans-serif;\n",
        "        }\n",
        "        th, td {\n",
        "            border: 1px solid #ddd;\n",
        "            padding: 8px;\n",
        "            text-align: left;\n",
        "        }\n",
        "        th {\n",
        "            background-color: #f2f2f2;\n",
        "        }\n",
        "    </style>\n",
        "    <table>\n",
        "        <thead>\n",
        "            <tr>\n",
        "                <th>Parameter</th>\n",
        "                <th>Option</th>\n",
        "            </tr>\n",
        "        </thead>\n",
        "        <tbody>\n",
        "            <tr>\n",
        "                <td>Hidden layers</td>\n",
        "                <td>4</td>\n",
        "            </tr>\n",
        "            <tr>\n",
        "                <td>Neurons (each layer)</td>\n",
        "                <td>400</td>\n",
        "            </tr>\n",
        "            <tr>\n",
        "                <td>Activation</td>\n",
        "                <td>ReLU</td>\n",
        "            </tr>\n",
        "            <tr>\n",
        "                <td>Dropout rate</td>\n",
        "                <td>0.0</td>\n",
        "            </tr>\n",
        "            <tr>\n",
        "                <td>Batch-normalization</td>\n",
        "                <td>No</td>\n",
        "            </tr>\n",
        "            <tr>\n",
        "                <td>Initialization</td>\n",
        "                <td>Glorot_uniform</td>\n",
        "            </tr>\n",
        "            <tr>\n",
        "                <td>Optimizer</td>\n",
        "                <td>Adam</td>\n",
        "            </tr>\n",
        "            <tr>\n",
        "                <td>Batch size</td>\n",
        "                <td>1024</td>\n",
        "            </tr>\n",
        "        </tbody>\n",
        "    </table>\n",
        "</div>"
      ],
      "metadata": {
        "id": "O_LMIsD6UtEq"
      }
    },
    {
      "cell_type": "code",
      "source": [
        "class ANN_Heston(nn.Module):\n",
        "    def __init__(self, input_size, num_classes):\n",
        "        super(ANN_Heston, self).__init__()\n",
        "\n",
        "        ''' Define layers '''\n",
        "        self.fc1 = nn.Linear(input_size, 400)\n",
        "        self.fc2 = nn.Linear(400, 400)\n",
        "        self.fc3 = nn.Linear(400, 400)\n",
        "        self.fc4 = nn.Linear(400, 400)\n",
        "        self.fc5 = nn.Linear(400, 1)\n",
        "\n",
        "        ''' Activation and dropout '''\n",
        "        self.relu = nn.ReLU()\n",
        "        self.dropout = nn.Dropout(0.0)\n",
        "\n",
        "        ''' Apply Glorot (Xavier) initialization to the weights '''\n",
        "        self._initialize_weights()\n",
        "\n",
        "    def forward(self, x):\n",
        "        x = self.fc1(x)\n",
        "        x = self.relu(x)\n",
        "        x = self.fc2(x)\n",
        "        x = self.relu(x)\n",
        "        x = self.fc3(x)\n",
        "        x = self.relu(x)\n",
        "        x = self.fc4(x)\n",
        "        x = self.relu(x)\n",
        "        x = self.fc5(x)\n",
        "        return x\n",
        "\n",
        "    def _initialize_weights(self):\n",
        "        ''' Apply Glorot (Xavier) initialization to all layers '''\n",
        "        init.xavier_uniform_(self.fc1.weight)\n",
        "        init.xavier_uniform_(self.fc2.weight)\n",
        "        init.xavier_uniform_(self.fc3.weight)\n",
        "        init.xavier_uniform_(self.fc4.weight)\n",
        "        init.xavier_uniform_(self.fc5.weight)"
      ],
      "metadata": {
        "id": "VBG1LCo6Ulm3"
      },
      "execution_count": 4,
      "outputs": []
    },
    {
      "cell_type": "markdown",
      "source": [
        "Data Generation"
      ],
      "metadata": {
        "id": "YF2TM7crVbgi"
      }
    },
    {
      "cell_type": "code",
      "source": [
        "torch.manual_seed(42)\n",
        "np.random.seed(42)"
      ],
      "metadata": {
        "id": "Yt3iD4m4VV98"
      },
      "execution_count": 5,
      "outputs": []
    },
    {
      "cell_type": "code",
      "source": [
        "batch_size = 10\n",
        "num_samples = 1000"
      ],
      "metadata": {
        "id": "4xNPyKW--d7M"
      },
      "execution_count": 6,
      "outputs": []
    },
    {
      "cell_type": "code",
      "source": [
        "def heston_price(m, v0, kappa, theta, sigma, rho, tau, r, a, b, N_cos):\n",
        "    sum=0\n",
        "    sum1=0\n",
        "    moneyness = m - r* tau\n",
        "    for k in range(0, N_cos):\n",
        "      args = (m, v0, kappa, theta, sigma, rho, tau, r, a, b)\n",
        "      res= heston_charfunc(k* np.pi/(b-a), *args)* U_k_calc(k, a, b)* np.exp(-1j* k* np.pi* ((moneyness+ a)/(b-a)))\n",
        "      if k==0 :\n",
        "        sum1=res\n",
        "      else:\n",
        "        sum+=res\n",
        "    result= np.exp(-r* tau)* np.real(0.5* sum1+ sum)\n",
        "    return result\n",
        "\n",
        "def heston_charfunc(w, m, v0, kappa, theta, sigma, rho, tau, r, a, b):\n",
        "\n",
        "    args = (w, m, v0, kappa, theta, sigma, rho, tau, r, a, b)\n",
        "    D= D_calc(*args)\n",
        "    G= G_calc(*args)\n",
        "    result= np.exp(1j* w* r* tau+ (v0/(sigma**2))* ((1- np.exp(-1* D* tau))/(1-G* np.exp(-1* D* tau)))\n",
        "    * (kappa- (1j* rho* sigma* w)- D))* np.exp((kappa* theta/ (sigma**2))* (tau* (kappa- 1j* rho* sigma* w- D)-\n",
        "                                                                                   2* np.log((1- G* np.exp(-1* D* tau))/(1-G))))\n",
        "\n",
        "    return result\n",
        "\n",
        "def D_calc(w, m, v0, kappa, theta, sigma, rho, tau, r, a, b):\n",
        "\n",
        "    result= np.sqrt((kappa- 1j* rho* sigma* w)**2 + (w**2+ 1j* w)* (sigma**2))\n",
        "\n",
        "    return result\n",
        "\n",
        "def G_calc(w, m, v0, kappa, theta, sigma, rho, tau, r, a, b):\n",
        "\n",
        "    args = (w, m, v0, kappa, theta, sigma, rho, tau, r, a, b)\n",
        "    D= D_calc(*args)\n",
        "    result= (kappa- 1j* rho* sigma* w- D )/ (kappa- 1j* rho* sigma* w+ D)\n",
        "\n",
        "    return result\n",
        "\n",
        "def U_k_calc(k, a, b):\n",
        "\n",
        "    result= (2/(b-a))* (Chi_k(k, 0, b, a, b)- Psi_k(k, 0, b, a, b))\n",
        "\n",
        "    return result\n",
        "\n",
        "def Chi_k(k, c, d, a, b):\n",
        "\n",
        "    result= (1/((1+ (k* np.pi/ (b-a))**2) ))* ((np.cos(k* np.pi * ((d-a)/(b-a)))* np.exp(d))- (np.cos(k* np.pi* ((c-a)/(b-a)))* np.exp(c))\n",
        "    + ((k* np.pi/(b-a)) *np.sin(k* np.pi* ((d-a)/(b-a)))* np.exp(d))- ((k* np.pi/(b-a)) *np.sin(k* np.pi* ((c-a)/(b-a)))* np.exp(c) ))\n",
        "\n",
        "    return result\n",
        "\n",
        "def Psi_k(k, c, d, a, b):\n",
        "\n",
        "    if k==0:\n",
        "      result= d-c\n",
        "    else:\n",
        "      result=(np.sin(k* np.pi* ((d-a)/(b-a)))- np.sin(k* np.pi* ((c-a)/(b-a))))* (b-a)/ (k* np.pi)\n",
        "    return result\n",
        "\n",
        "def calc_a_b(m, v0, kappa, theta, sigma, rho, tau, r, L_cos):\n",
        "\n",
        "    c1= r* tau+ (1- np.exp(-1* kappa* tau))* ((theta- v0)/ (2* kappa))- 0.5* theta* tau\n",
        "\n",
        "    c2= (1/(8* (kappa**3)))* (sigma* tau* kappa* np.exp(-1* kappa* tau)*(v0-theta)* (8* kappa* rho- 4* sigma)+\n",
        "                            kappa* rho* sigma* (1- np.exp(-1* kappa* tau))* (16* theta- 8* v0)+\n",
        "                            2* theta* kappa* tau* (-4* kappa* rho* sigma+ sigma**2+ 4* (kappa**2))+\n",
        "                            sigma**2 * ((theta- 2*v0)* np.exp(-2* kappa* tau)+ theta* (6* np.exp(-1* kappa* tau)-7)+ 2* v0)+\n",
        "                            8* (kappa**2) * (v0- theta)* (1-np.exp(-1* kappa * tau)))\n",
        "\n",
        "    a= c1- L_cos* (np.sqrt(np.abs(c2)))\n",
        "    b= c1+ L_cos* (np.sqrt(np.abs(c2)))\n",
        "\n",
        "    return a, b\n",
        "\n",
        "def lhs_sample(range_values):\n",
        "    lower_bound, upper_bound = range_values\n",
        "    samples = lhs(1, samples=1)\n",
        "    scaled_sample = samples * (upper_bound - lower_bound) + lower_bound\n",
        "    return scaled_sample.item()\n",
        "\n",
        "dataset = []\n",
        "for i in range(num_samples):\n",
        "    m = lhs_sample([0.6, 1.4])\n",
        "    tau = lhs_sample([0.1, 1.4])\n",
        "    r = lhs_sample([0.0, 0.1])\n",
        "    rho = lhs_sample([-0.95, 0.0])\n",
        "    kappa = lhs_sample([0.0, 2.0])\n",
        "    theta = lhs_sample([0.0, 0.5])\n",
        "    sigma = lhs_sample([0.0, 0.5])\n",
        "    v0 = lhs_sample([0.05, 0.5])\n",
        "\n",
        "    a, b = calc_a_b(np.log(m), v0, kappa, theta, sigma, rho, tau, r, L_cos=50)\n",
        "    option_price = heston_price(np.log(m), v0, kappa, theta, sigma, rho, tau, r, a, b, N_cos=1500)\n",
        "    dataset.append([m, tau, r, rho, kappa, theta, sigma, v0, option_price])\n",
        "df = pd.DataFrame(dataset, columns=['m', 'tau', 'r', 'rho', 'kappa', 'theta', 'sigma', 'v0', 'option_price'])\n",
        "df = df.fillna(df.mean())\n",
        "df = df.replace([np.inf, -np.inf], np.nan).fillna(df.mean())\n",
        "train_df, test_df = train_test_split(df, test_size=0.1, random_state=42)"
      ],
      "metadata": {
        "id": "CFrAC8UQV-Zs",
        "colab": {
          "base_uri": "https://localhost:8080/"
        },
        "outputId": "c93d914e-9096-4a36-965a-c03c0d4707c1"
      },
      "execution_count": 28,
      "outputs": [
        {
          "output_type": "stream",
          "name": "stderr",
          "text": [
            "<ipython-input-28-6924bbd3538a>:48: RuntimeWarning: overflow encountered in exp\n",
            "  result= (1/((1+ (k* np.pi/ (b-a))**2) ))* ((np.cos(k* np.pi * ((d-a)/(b-a)))* np.exp(d))- (np.cos(k* np.pi* ((c-a)/(b-a)))* np.exp(c))\n",
            "<ipython-input-28-6924bbd3538a>:49: RuntimeWarning: overflow encountered in exp\n",
            "  + ((k* np.pi/(b-a)) *np.sin(k* np.pi* ((d-a)/(b-a)))* np.exp(d))- ((k* np.pi/(b-a)) *np.sin(k* np.pi* ((c-a)/(b-a)))* np.exp(c) ))\n",
            "<ipython-input-28-6924bbd3538a>:49: RuntimeWarning: invalid value encountered in scalar multiply\n",
            "  + ((k* np.pi/(b-a)) *np.sin(k* np.pi* ((d-a)/(b-a)))* np.exp(d))- ((k* np.pi/(b-a)) *np.sin(k* np.pi* ((c-a)/(b-a)))* np.exp(c) ))\n",
            "<ipython-input-28-6924bbd3538a>:48: RuntimeWarning: invalid value encountered in scalar add\n",
            "  result= (1/((1+ (k* np.pi/ (b-a))**2) ))* ((np.cos(k* np.pi * ((d-a)/(b-a)))* np.exp(d))- (np.cos(k* np.pi* ((c-a)/(b-a)))* np.exp(c))\n",
            "<ipython-input-28-6924bbd3538a>:7: RuntimeWarning: invalid value encountered in scalar multiply\n",
            "  res= heston_charfunc(k* np.pi/(b-a), *args)* U_k_calc(k, a, b)* np.exp(-1j* k* np.pi* ((moneyness+ a)/(b-a)))\n"
          ]
        }
      ]
    },
    {
      "cell_type": "code",
      "source": [
        "max_value = df['option_price'].values.max()\n",
        "print(\"Maximum value in the entire DataFrame:\", max_value)"
      ],
      "metadata": {
        "colab": {
          "base_uri": "https://localhost:8080/"
        },
        "id": "ueFnNtaj2UZ1",
        "outputId": "75e4d5de-d181-464b-dc2d-7ef3b3e5e0f7"
      },
      "execution_count": 38,
      "outputs": [
        {
          "output_type": "stream",
          "name": "stdout",
          "text": [
            "Maximum value in the entire DataFrame: 8.214623343626281e+213\n"
          ]
        }
      ]
    },
    {
      "cell_type": "code",
      "source": [
        "scaler = MinMaxScaler()\n",
        "train_df['option_price'] = scaler.fit_transform(train_df['option_price'].values.reshape(-1, 1))\n",
        "test_df['option_price'] = scaler.transform(test_df['option_price'].values.reshape(-1, 1))"
      ],
      "metadata": {
        "id": "d_5p-3nNWfs8"
      },
      "execution_count": 29,
      "outputs": []
    },
    {
      "cell_type": "code",
      "source": [
        "X_train = train_df[['m', 'tau', 'r', 'rho', 'kappa', 'theta', 'sigma', 'v0']].values\n",
        "y_train = train_df['option_price'].values\n",
        "X_test = test_df[['m', 'tau', 'r', 'rho', 'kappa', 'theta', 'sigma', 'v0']].values\n",
        "y_test = test_df['option_price'].values\n",
        "\n",
        "''' Convert to PyTorch tensors '''\n",
        "X_train_tensor = torch.tensor(X_train, dtype=torch.float32)\n",
        "y_train_tensor = torch.tensor(y_train, dtype=torch.float32)\n",
        "\n",
        "X_test_tensor = torch.tensor(X_test, dtype=torch.float32)\n",
        "y_test_tensor = torch.tensor(y_test, dtype=torch.float32)\n",
        "\n",
        "''' Create TensorDataset '''\n",
        "train_dataset = TensorDataset(X_train_tensor, y_train_tensor)\n",
        "test_dataset = TensorDataset(X_test_tensor, y_test_tensor)\n",
        "\n",
        "''' Create DataLoader '''\n",
        "train_loader = DataLoader(train_dataset, batch_size=batch_size, shuffle=True)\n",
        "test_loader = DataLoader(test_dataset, batch_size=batch_size, shuffle=False)"
      ],
      "metadata": {
        "id": "TWO_O1lSZZTf"
      },
      "execution_count": 30,
      "outputs": []
    },
    {
      "cell_type": "code",
      "source": [
        "def train(model, train_loader, criterion, optimizer, num_epochs, scaler):\n",
        "    model.train()\n",
        "    train_losses = []\n",
        "\n",
        "    for epoch in range(num_epochs):\n",
        "        epoch_loss = 0.0\n",
        "        all_targets_scaled = []\n",
        "        all_predictions_scaled = []\n",
        "\n",
        "        ''' Create a progress bar for the current epoch '''\n",
        "        pbar = tqdm(\n",
        "            train_loader,\n",
        "            desc=f\"{Fore.GREEN}Epoch {epoch + 1}/{num_epochs}{Style.RESET_ALL}\",\n",
        "            ncols=100,\n",
        "            dynamic_ncols=True,\n",
        "            bar_format=\"{l_bar}{bar}| {n_fmt}/{total_fmt} [{elapsed}<{remaining}]\",\n",
        "        )\n",
        "\n",
        "        for batch_idx, (data, target) in enumerate(pbar):\n",
        "            data, target = data.to(device), target.to(device)\n",
        "            optimizer.zero_grad()\n",
        "\n",
        "            output = model(data)\n",
        "            target = target.view_as(output)\n",
        "\n",
        "            loss = criterion(output, target)\n",
        "            loss.backward()\n",
        "            optimizer.step()\n",
        "\n",
        "            epoch_loss += loss.item()\n",
        "\n",
        "            ''' Collect scaled predictions and targets for metrics calculation '''\n",
        "            all_predictions_scaled.extend(output.detach().cpu().numpy())\n",
        "            all_targets_scaled.extend(target.detach().cpu().numpy())\n",
        "\n",
        "            ''' Update the progress bar with batch loss '''\n",
        "            pbar.set_postfix({\n",
        "                f\"{Fore.YELLOW}Batch Loss{Style.RESET_ALL}\": f\"{loss.item():.6f}\"\n",
        "            })\n",
        "\n",
        "        ''' Reshape before inverse transform '''\n",
        "        all_predictions_scaled = np.array(all_predictions_scaled).reshape(-1, 1)\n",
        "        all_targets_scaled = np.array(all_targets_scaled).reshape(-1, 1)\n",
        "\n",
        "        ''' Reverse transform predictions and targets to original scale '''\n",
        "        all_predictions = scaler.inverse_transform(all_predictions_scaled).flatten()\n",
        "        all_targets = scaler.inverse_transform(all_targets_scaled).flatten()\n",
        "\n",
        "        all_predictions = np.clip(all_predictions, 0, 1000)\n",
        "        all_targets = np.clip(all_targets, 0, 1000)\n",
        "\n",
        "        ''' Calculate metrics for the epoch '''\n",
        "        mse = mean_squared_error(all_targets, all_predictions)\n",
        "        mae = mean_absolute_error(all_targets, all_predictions)\n",
        "        avg_loss = epoch_loss / len(train_loader)\n",
        "\n",
        "        train_losses.append(avg_loss)\n",
        "        print(\n",
        "            f\"{Fore.CYAN}Results :{Style.RESET_ALL} \"\n",
        "            f\"{Fore.MAGENTA}Average Loss:{Style.RESET_ALL} {avg_loss:.6f}, \"\n",
        "            f\"{Fore.MAGENTA}MSE:{Style.RESET_ALL} {mse:.6f}, \"\n",
        "            f\"{Fore.MAGENTA}MAE:{Style.RESET_ALL} {mae:.6f}\\n\"\n",
        "        )\n",
        "\n",
        "    return train_losses"
      ],
      "metadata": {
        "id": "_9yNFiKKXHcn"
      },
      "execution_count": 31,
      "outputs": []
    },
    {
      "cell_type": "code",
      "source": [
        "def test(model, test_loader, scaler):\n",
        "    model.eval()\n",
        "    test_loss = 0\n",
        "    y_pred_scaled = []\n",
        "    y_true_scaled = []\n",
        "\n",
        "    with torch.no_grad():\n",
        "        for data, target in test_loader:\n",
        "            data, target = data.to(device), target.to(device)\n",
        "            output = model(data)\n",
        "            test_loss += criterion(output, target).item()\n",
        "            y_pred_scaled.extend(output.cpu().numpy())\n",
        "            y_true_scaled.extend(target.cpu().numpy())\n",
        "\n",
        "    test_loss /= len(test_loader.dataset)\n",
        "\n",
        "    y_pred = scaler.inverse_transform(np.array(y_pred_scaled).reshape(-1, 1)).flatten()\n",
        "    y_true = scaler.inverse_transform(np.array(y_true_scaled).reshape(-1, 1)).flatten()\n",
        "\n",
        "    ''' Calculate metrics on original scale '''\n",
        "    mse = mean_squared_error(y_true, y_pred)\n",
        "    mae = mean_absolute_error(y_true, y_pred)\n",
        "    r2 = r2_score(y_true, y_pred)\n",
        "\n",
        "    return mse, mae, r2\n"
      ],
      "metadata": {
        "id": "VKHnqvrNX1J-"
      },
      "execution_count": 32,
      "outputs": []
    },
    {
      "cell_type": "code",
      "source": [
        "def plot_loss_history(history):\n",
        "    epochs = range(1, len(history) + 1)\n",
        "\n",
        "    plt.figure(figsize=(10, 6))\n",
        "    plt.plot(epochs, history, label=\"Training Loss\", color='b', marker='o', linestyle='-', markersize=6)\n",
        "\n",
        "    plt.title(\"Training Loss Over Epochs\", fontsize=14)\n",
        "    plt.xlabel(\"Epochs\", fontsize=12)\n",
        "    plt.ylabel(\"Loss\", fontsize=12)\n",
        "\n",
        "    plt.grid(True)\n",
        "    plt.legend(loc='upper right')\n",
        "\n",
        "    plt.show()"
      ],
      "metadata": {
        "id": "ltSfzdqv1-qE"
      },
      "execution_count": 33,
      "outputs": []
    },
    {
      "cell_type": "code",
      "source": [
        "model = ANN_Heston(input_size=8, num_classes=1).to(device)\n",
        "criterion = nn.MSELoss()\n",
        "optimizer = optim.Adam(model.parameters(), lr=0.001)"
      ],
      "metadata": {
        "id": "mHGvX9JFkZma"
      },
      "execution_count": 34,
      "outputs": []
    },
    {
      "cell_type": "code",
      "source": [
        "history = train(model, train_loader, criterion, optimizer, 25, scaler)\n",
        "plot_loss_history(history)"
      ],
      "metadata": {
        "id": "KP5HmX70YT-Y",
        "colab": {
          "base_uri": "https://localhost:8080/",
          "height": 1000
        },
        "outputId": "5a2ad5ea-f390-4828-c706-3b85daed6c96"
      },
      "execution_count": 35,
      "outputs": [
        {
          "output_type": "stream",
          "name": "stderr",
          "text": [
            "\u001b[32mEpoch 1/25\u001b[0m: 100%|██████████| 90/90 [00:00<00:00]\n",
            "/usr/local/lib/python3.10/dist-packages/sklearn/preprocessing/_data.py:575: RuntimeWarning: overflow encountered in divide\n",
            "  X /= self.scale_\n",
            "/usr/local/lib/python3.10/dist-packages/sklearn/preprocessing/_data.py:575: RuntimeWarning: overflow encountered in divide\n",
            "  X /= self.scale_\n"
          ]
        },
        {
          "output_type": "stream",
          "name": "stdout",
          "text": [
            "\u001b[36mResults :\u001b[0m \u001b[35mAverage Loss:\u001b[0m 0.019928, \u001b[35mMSE:\u001b[0m 454444.437500, \u001b[35mMAE:\u001b[0m 454.444458\n",
            "\n"
          ]
        },
        {
          "output_type": "stream",
          "name": "stderr",
          "text": [
            "\u001b[32mEpoch 2/25\u001b[0m: 100%|██████████| 90/90 [00:00<00:00]\n",
            "/usr/local/lib/python3.10/dist-packages/sklearn/preprocessing/_data.py:575: RuntimeWarning: overflow encountered in divide\n",
            "  X /= self.scale_\n",
            "/usr/local/lib/python3.10/dist-packages/sklearn/preprocessing/_data.py:575: RuntimeWarning: overflow encountered in divide\n",
            "  X /= self.scale_\n"
          ]
        },
        {
          "output_type": "stream",
          "name": "stdout",
          "text": [
            "\u001b[36mResults :\u001b[0m \u001b[35mAverage Loss:\u001b[0m 0.001660, \u001b[35mMSE:\u001b[0m 482222.218750, \u001b[35mMAE:\u001b[0m 482.222229\n",
            "\n"
          ]
        },
        {
          "output_type": "stream",
          "name": "stderr",
          "text": [
            "\u001b[32mEpoch 3/25\u001b[0m: 100%|██████████| 90/90 [00:00<00:00]\n",
            "/usr/local/lib/python3.10/dist-packages/sklearn/preprocessing/_data.py:575: RuntimeWarning: overflow encountered in divide\n",
            "  X /= self.scale_\n",
            "/usr/local/lib/python3.10/dist-packages/sklearn/preprocessing/_data.py:575: RuntimeWarning: overflow encountered in divide\n",
            "  X /= self.scale_\n"
          ]
        },
        {
          "output_type": "stream",
          "name": "stdout",
          "text": [
            "\u001b[36mResults :\u001b[0m \u001b[35mAverage Loss:\u001b[0m 0.001932, \u001b[35mMSE:\u001b[0m 488888.875000, \u001b[35mMAE:\u001b[0m 488.888885\n",
            "\n"
          ]
        },
        {
          "output_type": "stream",
          "name": "stderr",
          "text": [
            "\u001b[32mEpoch 4/25\u001b[0m: 100%|██████████| 90/90 [00:00<00:00]\n",
            "/usr/local/lib/python3.10/dist-packages/sklearn/preprocessing/_data.py:575: RuntimeWarning: overflow encountered in divide\n",
            "  X /= self.scale_\n",
            "/usr/local/lib/python3.10/dist-packages/sklearn/preprocessing/_data.py:575: RuntimeWarning: overflow encountered in divide\n",
            "  X /= self.scale_\n"
          ]
        },
        {
          "output_type": "stream",
          "name": "stdout",
          "text": [
            "\u001b[36mResults :\u001b[0m \u001b[35mAverage Loss:\u001b[0m 0.001661, \u001b[35mMSE:\u001b[0m 485555.562500, \u001b[35mMAE:\u001b[0m 485.555542\n",
            "\n"
          ]
        },
        {
          "output_type": "stream",
          "name": "stderr",
          "text": [
            "\u001b[32mEpoch 5/25\u001b[0m: 100%|██████████| 90/90 [00:00<00:00]\n",
            "/usr/local/lib/python3.10/dist-packages/sklearn/preprocessing/_data.py:575: RuntimeWarning: overflow encountered in divide\n",
            "  X /= self.scale_\n",
            "/usr/local/lib/python3.10/dist-packages/sklearn/preprocessing/_data.py:575: RuntimeWarning: overflow encountered in divide\n",
            "  X /= self.scale_\n"
          ]
        },
        {
          "output_type": "stream",
          "name": "stdout",
          "text": [
            "\u001b[36mResults :\u001b[0m \u001b[35mAverage Loss:\u001b[0m 0.001632, \u001b[35mMSE:\u001b[0m 481111.125000, \u001b[35mMAE:\u001b[0m 481.111115\n",
            "\n"
          ]
        },
        {
          "output_type": "stream",
          "name": "stderr",
          "text": [
            "\u001b[32mEpoch 6/25\u001b[0m: 100%|██████████| 90/90 [00:00<00:00]\n",
            "/usr/local/lib/python3.10/dist-packages/sklearn/preprocessing/_data.py:575: RuntimeWarning: overflow encountered in divide\n",
            "  X /= self.scale_\n",
            "/usr/local/lib/python3.10/dist-packages/sklearn/preprocessing/_data.py:575: RuntimeWarning: overflow encountered in divide\n",
            "  X /= self.scale_\n"
          ]
        },
        {
          "output_type": "stream",
          "name": "stdout",
          "text": [
            "\u001b[36mResults :\u001b[0m \u001b[35mAverage Loss:\u001b[0m 0.001878, \u001b[35mMSE:\u001b[0m 497777.781250, \u001b[35mMAE:\u001b[0m 497.777771\n",
            "\n"
          ]
        },
        {
          "output_type": "stream",
          "name": "stderr",
          "text": [
            "\u001b[32mEpoch 7/25\u001b[0m: 100%|██████████| 90/90 [00:00<00:00]\n",
            "/usr/local/lib/python3.10/dist-packages/sklearn/preprocessing/_data.py:575: RuntimeWarning: overflow encountered in divide\n",
            "  X /= self.scale_\n",
            "/usr/local/lib/python3.10/dist-packages/sklearn/preprocessing/_data.py:575: RuntimeWarning: overflow encountered in divide\n",
            "  X /= self.scale_\n"
          ]
        },
        {
          "output_type": "stream",
          "name": "stdout",
          "text": [
            "\u001b[36mResults :\u001b[0m \u001b[35mAverage Loss:\u001b[0m 0.001528, \u001b[35mMSE:\u001b[0m 498888.875000, \u001b[35mMAE:\u001b[0m 498.888885\n",
            "\n"
          ]
        },
        {
          "output_type": "stream",
          "name": "stderr",
          "text": [
            "\u001b[32mEpoch 8/25\u001b[0m: 100%|██████████| 90/90 [00:00<00:00]\n",
            "/usr/local/lib/python3.10/dist-packages/sklearn/preprocessing/_data.py:575: RuntimeWarning: overflow encountered in divide\n",
            "  X /= self.scale_\n",
            "/usr/local/lib/python3.10/dist-packages/sklearn/preprocessing/_data.py:575: RuntimeWarning: overflow encountered in divide\n",
            "  X /= self.scale_\n"
          ]
        },
        {
          "output_type": "stream",
          "name": "stdout",
          "text": [
            "\u001b[36mResults :\u001b[0m \u001b[35mAverage Loss:\u001b[0m 0.001394, \u001b[35mMSE:\u001b[0m 497777.781250, \u001b[35mMAE:\u001b[0m 497.777771\n",
            "\n"
          ]
        },
        {
          "output_type": "stream",
          "name": "stderr",
          "text": [
            "\u001b[32mEpoch 9/25\u001b[0m: 100%|██████████| 90/90 [00:00<00:00]\n",
            "/usr/local/lib/python3.10/dist-packages/sklearn/preprocessing/_data.py:575: RuntimeWarning: overflow encountered in divide\n",
            "  X /= self.scale_\n",
            "/usr/local/lib/python3.10/dist-packages/sklearn/preprocessing/_data.py:575: RuntimeWarning: overflow encountered in divide\n",
            "  X /= self.scale_\n"
          ]
        },
        {
          "output_type": "stream",
          "name": "stdout",
          "text": [
            "\u001b[36mResults :\u001b[0m \u001b[35mAverage Loss:\u001b[0m 0.001711, \u001b[35mMSE:\u001b[0m 481111.125000, \u001b[35mMAE:\u001b[0m 481.111115\n",
            "\n"
          ]
        },
        {
          "output_type": "stream",
          "name": "stderr",
          "text": [
            "\u001b[32mEpoch 10/25\u001b[0m: 100%|██████████| 90/90 [00:00<00:00]\n",
            "/usr/local/lib/python3.10/dist-packages/sklearn/preprocessing/_data.py:575: RuntimeWarning: overflow encountered in divide\n",
            "  X /= self.scale_\n",
            "/usr/local/lib/python3.10/dist-packages/sklearn/preprocessing/_data.py:575: RuntimeWarning: overflow encountered in divide\n",
            "  X /= self.scale_\n"
          ]
        },
        {
          "output_type": "stream",
          "name": "stdout",
          "text": [
            "\u001b[36mResults :\u001b[0m \u001b[35mAverage Loss:\u001b[0m 0.001419, \u001b[35mMSE:\u001b[0m 491111.125000, \u001b[35mMAE:\u001b[0m 491.111115\n",
            "\n"
          ]
        },
        {
          "output_type": "stream",
          "name": "stderr",
          "text": [
            "\u001b[32mEpoch 11/25\u001b[0m: 100%|██████████| 90/90 [00:00<00:00]\n",
            "/usr/local/lib/python3.10/dist-packages/sklearn/preprocessing/_data.py:575: RuntimeWarning: overflow encountered in divide\n",
            "  X /= self.scale_\n",
            "/usr/local/lib/python3.10/dist-packages/sklearn/preprocessing/_data.py:575: RuntimeWarning: overflow encountered in divide\n",
            "  X /= self.scale_\n"
          ]
        },
        {
          "output_type": "stream",
          "name": "stdout",
          "text": [
            "\u001b[36mResults :\u001b[0m \u001b[35mAverage Loss:\u001b[0m 0.001191, \u001b[35mMSE:\u001b[0m 513333.343750, \u001b[35mMAE:\u001b[0m 513.333313\n",
            "\n"
          ]
        },
        {
          "output_type": "stream",
          "name": "stderr",
          "text": [
            "\u001b[32mEpoch 12/25\u001b[0m: 100%|██████████| 90/90 [00:00<00:00]\n",
            "/usr/local/lib/python3.10/dist-packages/sklearn/preprocessing/_data.py:575: RuntimeWarning: overflow encountered in divide\n",
            "  X /= self.scale_\n",
            "/usr/local/lib/python3.10/dist-packages/sklearn/preprocessing/_data.py:575: RuntimeWarning: overflow encountered in divide\n",
            "  X /= self.scale_\n"
          ]
        },
        {
          "output_type": "stream",
          "name": "stdout",
          "text": [
            "\u001b[36mResults :\u001b[0m \u001b[35mAverage Loss:\u001b[0m 0.001450, \u001b[35mMSE:\u001b[0m 498888.875000, \u001b[35mMAE:\u001b[0m 498.888885\n",
            "\n"
          ]
        },
        {
          "output_type": "stream",
          "name": "stderr",
          "text": [
            "\u001b[32mEpoch 13/25\u001b[0m: 100%|██████████| 90/90 [00:00<00:00]\n",
            "/usr/local/lib/python3.10/dist-packages/sklearn/preprocessing/_data.py:575: RuntimeWarning: overflow encountered in divide\n",
            "  X /= self.scale_\n",
            "/usr/local/lib/python3.10/dist-packages/sklearn/preprocessing/_data.py:575: RuntimeWarning: overflow encountered in divide\n",
            "  X /= self.scale_\n"
          ]
        },
        {
          "output_type": "stream",
          "name": "stdout",
          "text": [
            "\u001b[36mResults :\u001b[0m \u001b[35mAverage Loss:\u001b[0m 0.001210, \u001b[35mMSE:\u001b[0m 510000.000000, \u001b[35mMAE:\u001b[0m 510.000000\n",
            "\n"
          ]
        },
        {
          "output_type": "stream",
          "name": "stderr",
          "text": [
            "\u001b[32mEpoch 14/25\u001b[0m: 100%|██████████| 90/90 [00:00<00:00]\n",
            "/usr/local/lib/python3.10/dist-packages/sklearn/preprocessing/_data.py:575: RuntimeWarning: overflow encountered in divide\n",
            "  X /= self.scale_\n",
            "/usr/local/lib/python3.10/dist-packages/sklearn/preprocessing/_data.py:575: RuntimeWarning: overflow encountered in divide\n",
            "  X /= self.scale_\n"
          ]
        },
        {
          "output_type": "stream",
          "name": "stdout",
          "text": [
            "\u001b[36mResults :\u001b[0m \u001b[35mAverage Loss:\u001b[0m 0.001234, \u001b[35mMSE:\u001b[0m 497777.781250, \u001b[35mMAE:\u001b[0m 497.777771\n",
            "\n"
          ]
        },
        {
          "output_type": "stream",
          "name": "stderr",
          "text": [
            "\u001b[32mEpoch 15/25\u001b[0m: 100%|██████████| 90/90 [00:00<00:00]\n",
            "/usr/local/lib/python3.10/dist-packages/sklearn/preprocessing/_data.py:575: RuntimeWarning: overflow encountered in divide\n",
            "  X /= self.scale_\n",
            "/usr/local/lib/python3.10/dist-packages/sklearn/preprocessing/_data.py:575: RuntimeWarning: overflow encountered in divide\n",
            "  X /= self.scale_\n"
          ]
        },
        {
          "output_type": "stream",
          "name": "stdout",
          "text": [
            "\u001b[36mResults :\u001b[0m \u001b[35mAverage Loss:\u001b[0m 0.000929, \u001b[35mMSE:\u001b[0m 506666.656250, \u001b[35mMAE:\u001b[0m 506.666656\n",
            "\n"
          ]
        },
        {
          "output_type": "stream",
          "name": "stderr",
          "text": [
            "\u001b[32mEpoch 16/25\u001b[0m: 100%|██████████| 90/90 [00:00<00:00]\n",
            "/usr/local/lib/python3.10/dist-packages/sklearn/preprocessing/_data.py:575: RuntimeWarning: overflow encountered in divide\n",
            "  X /= self.scale_\n",
            "/usr/local/lib/python3.10/dist-packages/sklearn/preprocessing/_data.py:575: RuntimeWarning: overflow encountered in divide\n",
            "  X /= self.scale_\n"
          ]
        },
        {
          "output_type": "stream",
          "name": "stdout",
          "text": [
            "\u001b[36mResults :\u001b[0m \u001b[35mAverage Loss:\u001b[0m 0.001133, \u001b[35mMSE:\u001b[0m 514444.437500, \u001b[35mMAE:\u001b[0m 514.444458\n",
            "\n"
          ]
        },
        {
          "output_type": "stream",
          "name": "stderr",
          "text": [
            "\u001b[32mEpoch 17/25\u001b[0m: 100%|██████████| 90/90 [00:00<00:00]\n",
            "/usr/local/lib/python3.10/dist-packages/sklearn/preprocessing/_data.py:575: RuntimeWarning: overflow encountered in divide\n",
            "  X /= self.scale_\n",
            "/usr/local/lib/python3.10/dist-packages/sklearn/preprocessing/_data.py:575: RuntimeWarning: overflow encountered in divide\n",
            "  X /= self.scale_\n"
          ]
        },
        {
          "output_type": "stream",
          "name": "stdout",
          "text": [
            "\u001b[36mResults :\u001b[0m \u001b[35mAverage Loss:\u001b[0m 0.001097, \u001b[35mMSE:\u001b[0m 496666.656250, \u001b[35mMAE:\u001b[0m 496.666656\n",
            "\n"
          ]
        },
        {
          "output_type": "stream",
          "name": "stderr",
          "text": [
            "\u001b[32mEpoch 18/25\u001b[0m: 100%|██████████| 90/90 [00:00<00:00]\n",
            "/usr/local/lib/python3.10/dist-packages/sklearn/preprocessing/_data.py:575: RuntimeWarning: overflow encountered in divide\n",
            "  X /= self.scale_\n",
            "/usr/local/lib/python3.10/dist-packages/sklearn/preprocessing/_data.py:575: RuntimeWarning: overflow encountered in divide\n",
            "  X /= self.scale_\n"
          ]
        },
        {
          "output_type": "stream",
          "name": "stdout",
          "text": [
            "\u001b[36mResults :\u001b[0m \u001b[35mAverage Loss:\u001b[0m 0.001053, \u001b[35mMSE:\u001b[0m 475555.562500, \u001b[35mMAE:\u001b[0m 475.555542\n",
            "\n"
          ]
        },
        {
          "output_type": "stream",
          "name": "stderr",
          "text": [
            "\u001b[32mEpoch 19/25\u001b[0m: 100%|██████████| 90/90 [00:00<00:00]\n",
            "/usr/local/lib/python3.10/dist-packages/sklearn/preprocessing/_data.py:575: RuntimeWarning: overflow encountered in divide\n",
            "  X /= self.scale_\n",
            "/usr/local/lib/python3.10/dist-packages/sklearn/preprocessing/_data.py:575: RuntimeWarning: overflow encountered in divide\n",
            "  X /= self.scale_\n"
          ]
        },
        {
          "output_type": "stream",
          "name": "stdout",
          "text": [
            "\u001b[36mResults :\u001b[0m \u001b[35mAverage Loss:\u001b[0m 0.001307, \u001b[35mMSE:\u001b[0m 493333.343750, \u001b[35mMAE:\u001b[0m 493.333344\n",
            "\n"
          ]
        },
        {
          "output_type": "stream",
          "name": "stderr",
          "text": [
            "\u001b[32mEpoch 20/25\u001b[0m: 100%|██████████| 90/90 [00:00<00:00]\n",
            "/usr/local/lib/python3.10/dist-packages/sklearn/preprocessing/_data.py:575: RuntimeWarning: overflow encountered in divide\n",
            "  X /= self.scale_\n",
            "/usr/local/lib/python3.10/dist-packages/sklearn/preprocessing/_data.py:575: RuntimeWarning: overflow encountered in divide\n",
            "  X /= self.scale_\n"
          ]
        },
        {
          "output_type": "stream",
          "name": "stdout",
          "text": [
            "\u001b[36mResults :\u001b[0m \u001b[35mAverage Loss:\u001b[0m 0.000889, \u001b[35mMSE:\u001b[0m 494444.437500, \u001b[35mMAE:\u001b[0m 494.444458\n",
            "\n"
          ]
        },
        {
          "output_type": "stream",
          "name": "stderr",
          "text": [
            "\u001b[32mEpoch 21/25\u001b[0m: 100%|██████████| 90/90 [00:00<00:00]\n",
            "/usr/local/lib/python3.10/dist-packages/sklearn/preprocessing/_data.py:575: RuntimeWarning: overflow encountered in divide\n",
            "  X /= self.scale_\n",
            "/usr/local/lib/python3.10/dist-packages/sklearn/preprocessing/_data.py:575: RuntimeWarning: overflow encountered in divide\n",
            "  X /= self.scale_\n"
          ]
        },
        {
          "output_type": "stream",
          "name": "stdout",
          "text": [
            "\u001b[36mResults :\u001b[0m \u001b[35mAverage Loss:\u001b[0m 0.000910, \u001b[35mMSE:\u001b[0m 508888.875000, \u001b[35mMAE:\u001b[0m 508.888885\n",
            "\n"
          ]
        },
        {
          "output_type": "stream",
          "name": "stderr",
          "text": [
            "\u001b[32mEpoch 22/25\u001b[0m: 100%|██████████| 90/90 [00:00<00:00]\n",
            "/usr/local/lib/python3.10/dist-packages/sklearn/preprocessing/_data.py:575: RuntimeWarning: overflow encountered in divide\n",
            "  X /= self.scale_\n",
            "/usr/local/lib/python3.10/dist-packages/sklearn/preprocessing/_data.py:575: RuntimeWarning: overflow encountered in divide\n",
            "  X /= self.scale_\n"
          ]
        },
        {
          "output_type": "stream",
          "name": "stdout",
          "text": [
            "\u001b[36mResults :\u001b[0m \u001b[35mAverage Loss:\u001b[0m 0.000732, \u001b[35mMSE:\u001b[0m 496666.656250, \u001b[35mMAE:\u001b[0m 496.666656\n",
            "\n"
          ]
        },
        {
          "output_type": "stream",
          "name": "stderr",
          "text": [
            "\u001b[32mEpoch 23/25\u001b[0m: 100%|██████████| 90/90 [00:00<00:00]\n",
            "/usr/local/lib/python3.10/dist-packages/sklearn/preprocessing/_data.py:575: RuntimeWarning: overflow encountered in divide\n",
            "  X /= self.scale_\n",
            "/usr/local/lib/python3.10/dist-packages/sklearn/preprocessing/_data.py:575: RuntimeWarning: overflow encountered in divide\n",
            "  X /= self.scale_\n"
          ]
        },
        {
          "output_type": "stream",
          "name": "stdout",
          "text": [
            "\u001b[36mResults :\u001b[0m \u001b[35mAverage Loss:\u001b[0m 0.000917, \u001b[35mMSE:\u001b[0m 491111.125000, \u001b[35mMAE:\u001b[0m 491.111115\n",
            "\n"
          ]
        },
        {
          "output_type": "stream",
          "name": "stderr",
          "text": [
            "\u001b[32mEpoch 24/25\u001b[0m: 100%|██████████| 90/90 [00:00<00:00]\n",
            "/usr/local/lib/python3.10/dist-packages/sklearn/preprocessing/_data.py:575: RuntimeWarning: overflow encountered in divide\n",
            "  X /= self.scale_\n",
            "/usr/local/lib/python3.10/dist-packages/sklearn/preprocessing/_data.py:575: RuntimeWarning: overflow encountered in divide\n",
            "  X /= self.scale_\n"
          ]
        },
        {
          "output_type": "stream",
          "name": "stdout",
          "text": [
            "\u001b[36mResults :\u001b[0m \u001b[35mAverage Loss:\u001b[0m 0.000548, \u001b[35mMSE:\u001b[0m 496666.656250, \u001b[35mMAE:\u001b[0m 496.666656\n",
            "\n"
          ]
        },
        {
          "output_type": "stream",
          "name": "stderr",
          "text": [
            "\u001b[32mEpoch 25/25\u001b[0m: 100%|██████████| 90/90 [00:00<00:00]\n",
            "/usr/local/lib/python3.10/dist-packages/sklearn/preprocessing/_data.py:575: RuntimeWarning: overflow encountered in divide\n",
            "  X /= self.scale_\n",
            "/usr/local/lib/python3.10/dist-packages/sklearn/preprocessing/_data.py:575: RuntimeWarning: overflow encountered in divide\n",
            "  X /= self.scale_\n"
          ]
        },
        {
          "output_type": "stream",
          "name": "stdout",
          "text": [
            "\u001b[36mResults :\u001b[0m \u001b[35mAverage Loss:\u001b[0m 0.000563, \u001b[35mMSE:\u001b[0m 491111.125000, \u001b[35mMAE:\u001b[0m 491.111115\n",
            "\n"
          ]
        },
        {
          "output_type": "display_data",
          "data": {
            "text/plain": [
              "<Figure size 1000x600 with 1 Axes>"
            ],
            "image/png": "[encoded data removed]"
          },
          "metadata": {}
        }
      ]
    },
    {
      "cell_type": "markdown",
      "source": [
        "Eveluation on Test Data"
      ],
      "metadata": {
        "id": "-wb7usR52pBR"
      }
    },
    {
      "cell_type": "code",
      "source": [
        "mse, mae, r2 = test(model, test_loader,scaler)\n",
        "print(f'Mean Squared Error (MSE): {mse:.4f}')\n",
        "print(f'Mean Absolute Error (MAE): {mae:.4f}')\n",
        "print(f'R² Score: {r2:.4f}')"
      ],
      "metadata": {
        "id": "RIz3BmNkYY27",
        "colab": {
          "base_uri": "https://localhost:8080/",
          "height": 445
        },
        "outputId": "1a62bd11-9547-4fbf-816f-5a3d46d1e050"
      },
      "execution_count": 18,
      "outputs": [
        {
          "output_type": "stream",
          "name": "stderr",
          "text": [
            "/usr/local/lib/python3.10/dist-packages/sklearn/preprocessing/_data.py:575: RuntimeWarning: overflow encountered in divide\n",
            "  X /= self.scale_\n",
            "/usr/local/lib/python3.10/dist-packages/numpy/core/fromnumeric.py:88: RuntimeWarning: invalid value encountered in reduce\n",
            "  return ufunc.reduce(obj, axis, dtype, out, **passkwargs)\n"
          ]
        },
        {
          "output_type": "error",
          "ename": "ValueError",
          "evalue": "Input contains infinity or a value too large for dtype('float32').",
          "traceback": [
            "\u001b[0;31m---------------------------------------------------------------------------\u001b[0m",
            "\u001b[0;31mValueError\u001b[0m                                Traceback (most recent call last)",
            "\u001b[0;32m<ipython-input-18-b47a68da06cd>\u001b[0m in \u001b[0;36m<cell line: 1>\u001b[0;34m()\u001b[0m\n\u001b[0;32m----> 1\u001b[0;31m \u001b[0mmse\u001b[0m\u001b[0;34m,\u001b[0m \u001b[0mmae\u001b[0m\u001b[0;34m,\u001b[0m \u001b[0mr2\u001b[0m \u001b[0;34m=\u001b[0m \u001b[0mtest\u001b[0m\u001b[0;34m(\u001b[0m\u001b[0mmodel\u001b[0m\u001b[0;34m,\u001b[0m \u001b[0mtest_loader\u001b[0m\u001b[0;34m,\u001b[0m\u001b[0mscaler\u001b[0m\u001b[0;34m)\u001b[0m\u001b[0;34m\u001b[0m\u001b[0;34m\u001b[0m\u001b[0m\n\u001b[0m\u001b[1;32m      2\u001b[0m \u001b[0mprint\u001b[0m\u001b[0;34m(\u001b[0m\u001b[0;34mf'Mean Squared Error (MSE): {mse:.4f}'\u001b[0m\u001b[0;34m)\u001b[0m\u001b[0;34m\u001b[0m\u001b[0;34m\u001b[0m\u001b[0m\n\u001b[1;32m      3\u001b[0m \u001b[0mprint\u001b[0m\u001b[0;34m(\u001b[0m\u001b[0;34mf'Mean Absolute Error (MAE): {mae:.4f}'\u001b[0m\u001b[0;34m)\u001b[0m\u001b[0;34m\u001b[0m\u001b[0;34m\u001b[0m\u001b[0m\n\u001b[1;32m      4\u001b[0m \u001b[0mprint\u001b[0m\u001b[0;34m(\u001b[0m\u001b[0;34mf'R² Score: {r2:.4f}'\u001b[0m\u001b[0;34m)\u001b[0m\u001b[0;34m\u001b[0m\u001b[0;34m\u001b[0m\u001b[0m\n",
            "\u001b[0;32m<ipython-input-11-3dd12d975749>\u001b[0m in \u001b[0;36mtest\u001b[0;34m(model, test_loader, scaler)\u001b[0m\n\u001b[1;32m     19\u001b[0m \u001b[0;34m\u001b[0m\u001b[0m\n\u001b[1;32m     20\u001b[0m     \u001b[0;34m''' Calculate metrics on original scale '''\u001b[0m\u001b[0;34m\u001b[0m\u001b[0;34m\u001b[0m\u001b[0m\n\u001b[0;32m---> 21\u001b[0;31m     \u001b[0mmse\u001b[0m \u001b[0;34m=\u001b[0m \u001b[0mmean_squared_error\u001b[0m\u001b[0;34m(\u001b[0m\u001b[0my_true\u001b[0m\u001b[0;34m,\u001b[0m \u001b[0my_pred\u001b[0m\u001b[0;34m)\u001b[0m\u001b[0;34m\u001b[0m\u001b[0;34m\u001b[0m\u001b[0m\n\u001b[0m\u001b[1;32m     22\u001b[0m     \u001b[0mmae\u001b[0m \u001b[0;34m=\u001b[0m \u001b[0mmean_absolute_error\u001b[0m\u001b[0;34m(\u001b[0m\u001b[0my_true\u001b[0m\u001b[0;34m,\u001b[0m \u001b[0my_pred\u001b[0m\u001b[0;34m)\u001b[0m\u001b[0;34m\u001b[0m\u001b[0;34m\u001b[0m\u001b[0m\n\u001b[1;32m     23\u001b[0m     \u001b[0mr2\u001b[0m \u001b[0;34m=\u001b[0m \u001b[0mr2_score\u001b[0m\u001b[0;34m(\u001b[0m\u001b[0my_true\u001b[0m\u001b[0;34m,\u001b[0m \u001b[0my_pred\u001b[0m\u001b[0;34m)\u001b[0m\u001b[0;34m\u001b[0m\u001b[0;34m\u001b[0m\u001b[0m\n",
            "\u001b[0;32m/usr/local/lib/python3.10/dist-packages/sklearn/utils/_param_validation.py\u001b[0m in \u001b[0;36mwrapper\u001b[0;34m(*args, **kwargs)\u001b[0m\n\u001b[1;32m    211\u001b[0m                     )\n\u001b[1;32m    212\u001b[0m                 ):\n\u001b[0;32m--> 213\u001b[0;31m                     \u001b[0;32mreturn\u001b[0m \u001b[0mfunc\u001b[0m\u001b[0;34m(\u001b[0m\u001b[0;34m*\u001b[0m\u001b[0margs\u001b[0m\u001b[0;34m,\u001b[0m \u001b[0;34m**\u001b[0m\u001b[0mkwargs\u001b[0m\u001b[0;34m)\u001b[0m\u001b[0;34m\u001b[0m\u001b[0;34m\u001b[0m\u001b[0m\n\u001b[0m\u001b[1;32m    214\u001b[0m             \u001b[0;32mexcept\u001b[0m \u001b[0mInvalidParameterError\u001b[0m \u001b[0;32mas\u001b[0m \u001b[0me\u001b[0m\u001b[0;34m:\u001b[0m\u001b[0;34m\u001b[0m\u001b[0;34m\u001b[0m\u001b[0m\n\u001b[1;32m    215\u001b[0m                 \u001b[0;31m# When the function is just a wrapper around an estimator, we allow\u001b[0m\u001b[0;34m\u001b[0m\u001b[0;34m\u001b[0m\u001b[0m\n",
            "\u001b[0;32m/usr/local/lib/python3.10/dist-packages/sklearn/metrics/_regression.py\u001b[0m in \u001b[0;36mmean_squared_error\u001b[0;34m(y_true, y_pred, sample_weight, multioutput, squared)\u001b[0m\n\u001b[1;32m    504\u001b[0m             )\n\u001b[1;32m    505\u001b[0m \u001b[0;34m\u001b[0m\u001b[0m\n\u001b[0;32m--> 506\u001b[0;31m     y_type, y_true, y_pred, multioutput = _check_reg_targets(\n\u001b[0m\u001b[1;32m    507\u001b[0m         \u001b[0my_true\u001b[0m\u001b[0;34m,\u001b[0m \u001b[0my_pred\u001b[0m\u001b[0;34m,\u001b[0m \u001b[0mmultioutput\u001b[0m\u001b[0;34m\u001b[0m\u001b[0;34m\u001b[0m\u001b[0m\n\u001b[1;32m    508\u001b[0m     )\n",
            "\u001b[0;32m/usr/local/lib/python3.10/dist-packages/sklearn/metrics/_regression.py\u001b[0m in \u001b[0;36m_check_reg_targets\u001b[0;34m(y_true, y_pred, multioutput, dtype, xp)\u001b[0m\n\u001b[1;32m    111\u001b[0m     \u001b[0mcheck_consistent_length\u001b[0m\u001b[0;34m(\u001b[0m\u001b[0my_true\u001b[0m\u001b[0;34m,\u001b[0m \u001b[0my_pred\u001b[0m\u001b[0;34m)\u001b[0m\u001b[0;34m\u001b[0m\u001b[0;34m\u001b[0m\u001b[0m\n\u001b[1;32m    112\u001b[0m     \u001b[0my_true\u001b[0m \u001b[0;34m=\u001b[0m \u001b[0mcheck_array\u001b[0m\u001b[0;34m(\u001b[0m\u001b[0my_true\u001b[0m\u001b[0;34m,\u001b[0m \u001b[0mensure_2d\u001b[0m\u001b[0;34m=\u001b[0m\u001b[0;32mFalse\u001b[0m\u001b[0;34m,\u001b[0m \u001b[0mdtype\u001b[0m\u001b[0;34m=\u001b[0m\u001b[0mdtype\u001b[0m\u001b[0;34m)\u001b[0m\u001b[0;34m\u001b[0m\u001b[0;34m\u001b[0m\u001b[0m\n\u001b[0;32m--> 113\u001b[0;31m     \u001b[0my_pred\u001b[0m \u001b[0;34m=\u001b[0m \u001b[0mcheck_array\u001b[0m\u001b[0;34m(\u001b[0m\u001b[0my_pred\u001b[0m\u001b[0;34m,\u001b[0m \u001b[0mensure_2d\u001b[0m\u001b[0;34m=\u001b[0m\u001b[0;32mFalse\u001b[0m\u001b[0;34m,\u001b[0m \u001b[0mdtype\u001b[0m\u001b[0;34m=\u001b[0m\u001b[0mdtype\u001b[0m\u001b[0;34m)\u001b[0m\u001b[0;34m\u001b[0m\u001b[0;34m\u001b[0m\u001b[0m\n\u001b[0m\u001b[1;32m    114\u001b[0m \u001b[0;34m\u001b[0m\u001b[0m\n\u001b[1;32m    115\u001b[0m     \u001b[0;32mif\u001b[0m \u001b[0my_true\u001b[0m\u001b[0;34m.\u001b[0m\u001b[0mndim\u001b[0m \u001b[0;34m==\u001b[0m \u001b[0;36m1\u001b[0m\u001b[0;34m:\u001b[0m\u001b[0;34m\u001b[0m\u001b[0;34m\u001b[0m\u001b[0m\n",
            "\u001b[0;32m/usr/local/lib/python3.10/dist-packages/sklearn/utils/validation.py\u001b[0m in \u001b[0;36mcheck_array\u001b[0;34m(array, accept_sparse, accept_large_sparse, dtype, order, copy, force_writeable, force_all_finite, ensure_2d, allow_nd, ensure_min_samples, ensure_min_features, estimator, input_name)\u001b[0m\n\u001b[1;32m   1062\u001b[0m \u001b[0;34m\u001b[0m\u001b[0m\n\u001b[1;32m   1063\u001b[0m         \u001b[0;32mif\u001b[0m \u001b[0mforce_all_finite\u001b[0m\u001b[0;34m:\u001b[0m\u001b[0;34m\u001b[0m\u001b[0;34m\u001b[0m\u001b[0m\n\u001b[0;32m-> 1064\u001b[0;31m             _assert_all_finite(\n\u001b[0m\u001b[1;32m   1065\u001b[0m                 \u001b[0marray\u001b[0m\u001b[0;34m,\u001b[0m\u001b[0;34m\u001b[0m\u001b[0;34m\u001b[0m\u001b[0m\n\u001b[1;32m   1066\u001b[0m                 \u001b[0minput_name\u001b[0m\u001b[0;34m=\u001b[0m\u001b[0minput_name\u001b[0m\u001b[0;34m,\u001b[0m\u001b[0;34m\u001b[0m\u001b[0;34m\u001b[0m\u001b[0m\n",
            "\u001b[0;32m/usr/local/lib/python3.10/dist-packages/sklearn/utils/validation.py\u001b[0m in \u001b[0;36m_assert_all_finite\u001b[0;34m(X, allow_nan, msg_dtype, estimator_name, input_name)\u001b[0m\n\u001b[1;32m    121\u001b[0m         \u001b[0;32mreturn\u001b[0m\u001b[0;34m\u001b[0m\u001b[0;34m\u001b[0m\u001b[0m\n\u001b[1;32m    122\u001b[0m \u001b[0;34m\u001b[0m\u001b[0m\n\u001b[0;32m--> 123\u001b[0;31m     _assert_all_finite_element_wise(\n\u001b[0m\u001b[1;32m    124\u001b[0m         \u001b[0mX\u001b[0m\u001b[0;34m,\u001b[0m\u001b[0;34m\u001b[0m\u001b[0;34m\u001b[0m\u001b[0m\n\u001b[1;32m    125\u001b[0m         \u001b[0mxp\u001b[0m\u001b[0;34m=\u001b[0m\u001b[0mxp\u001b[0m\u001b[0;34m,\u001b[0m\u001b[0;34m\u001b[0m\u001b[0;34m\u001b[0m\u001b[0m\n",
            "\u001b[0;32m/usr/local/lib/python3.10/dist-packages/sklearn/utils/validation.py\u001b[0m in \u001b[0;36m_assert_all_finite_element_wise\u001b[0;34m(X, xp, allow_nan, msg_dtype, estimator_name, input_name)\u001b[0m\n\u001b[1;32m    170\u001b[0m                 \u001b[0;34m\"#estimators-that-handle-nan-values\"\u001b[0m\u001b[0;34m\u001b[0m\u001b[0;34m\u001b[0m\u001b[0m\n\u001b[1;32m    171\u001b[0m             )\n\u001b[0;32m--> 172\u001b[0;31m         \u001b[0;32mraise\u001b[0m \u001b[0mValueError\u001b[0m\u001b[0;34m(\u001b[0m\u001b[0mmsg_err\u001b[0m\u001b[0;34m)\u001b[0m\u001b[0;34m\u001b[0m\u001b[0;34m\u001b[0m\u001b[0m\n\u001b[0m\u001b[1;32m    173\u001b[0m \u001b[0;34m\u001b[0m\u001b[0m\n\u001b[1;32m    174\u001b[0m \u001b[0;34m\u001b[0m\u001b[0m\n",
            "\u001b[0;31mValueError\u001b[0m: Input contains infinity or a value too large for dtype('float32')."
          ]
        }
      ]
    },
    {
      "cell_type": "markdown",
      "source": [
        "Eveluation on Train Data"
      ],
      "metadata": {
        "id": "AfUEbOAL2wxY"
      }
    },
    {
      "cell_type": "code",
      "source": [
        "mse, mae, r2 = test(model, train_loader,scaler)\n",
        "print(f'Mean Squared Error (MSE): {mse:.4f}')\n",
        "print(f'Mean Absolute Error (MAE): {mae:.4f}')\n",
        "print(f'R² Score: {r2:.4f}')"
      ],
      "metadata": {
        "id": "WqZMyqbtYqa7"
      },
      "execution_count": null,
      "outputs": []
    },
    {
      "cell_type": "code",
      "source": [
        "''' Reverse the scalled data '''\n",
        "train_df['option_price'] = scaler.inverse_transform(train_df['option_price'].values.reshape(-1, 1))\n",
        "test_df['option_price'] = scaler.inverse_transform(test_df['option_price'].values.reshape(-1, 1))"
      ],
      "metadata": {
        "id": "5EzCFK6c8mQB"
      },
      "execution_count": null,
      "outputs": []
    },
    {
      "cell_type": "markdown",
      "source": [
        "## Implied Volatility using Heston Method"
      ],
      "metadata": {
        "id": "KRpTU164yUqm"
      }
    },
    {
      "cell_type": "code",
      "source": [
        "scaler1 = MinMaxScaler()\n",
        "train_df['v0'] = scaler1.fit_transform(train_df['v0'].values.reshape(-1, 1))\n",
        "test_df['v0'] = scaler1.transform(test_df['v0'].values.reshape(-1, 1))"
      ],
      "metadata": {
        "id": "I3TFmgtm8-CK"
      },
      "execution_count": null,
      "outputs": []
    },
    {
      "cell_type": "code",
      "source": [
        "X_train = train_df[['m', 'tau', 'r', 'rho', 'kappa', 'theta', 'sigma', 'option_price']].values\n",
        "y_train = train_df['v0'].values\n",
        "\n",
        "X_test = test_df[['m', 'tau', 'r', 'rho', 'kappa', 'theta', 'sigma', 'option_price']].values\n",
        "y_test = test_df['v0'].values\n",
        "\n",
        "''' Convert to PyTorch tensors '''\n",
        "X_train_tensor = torch.tensor(X_train, dtype=torch.float64)\n",
        "y_train_tensor = torch.tensor(y_train, dtype=torch.float64)\n",
        "\n",
        "X_test_tensor = torch.tensor(X_test, dtype=torch.float64)\n",
        "y_test_tensor = torch.tensor(y_test, dtype=torch.float64)\n",
        "\n",
        "''' Create TensorDataset '''\n",
        "train_dataset = TensorDataset(X_train_tensor, y_train_tensor)\n",
        "test_dataset = TensorDataset(X_test_tensor, y_test_tensor)\n",
        "\n",
        "''' Create Train loader and Test Loader '''\n",
        "train_loader1 = DataLoader(train_dataset, batch_size=batch_size, shuffle=True)\n",
        "test_loader1 = DataLoader(test_dataset, batch_size=batch_size, shuffle=False)"
      ],
      "metadata": {
        "id": "8liiKwS-yZzA"
      },
      "execution_count": null,
      "outputs": []
    },
    {
      "cell_type": "code",
      "source": [
        "model_implied = ANN_Heston(input_size=8, num_classes=1).to(device)\n",
        "criterion = nn.MSELoss()\n",
        "optimizer = optim.Adam(model_implied.parameters(), lr=0.0001)"
      ],
      "metadata": {
        "id": "_399aaWxy0wN"
      },
      "execution_count": null,
      "outputs": []
    },
    {
      "cell_type": "code",
      "source": [
        "history = train(model_implied, train_loader1, criterion, optimizer, 25, scaler1)\n",
        "plot_loss_history(history)"
      ],
      "metadata": {
        "id": "1iUCuy5Z1gm5"
      },
      "execution_count": null,
      "outputs": []
    },
    {
      "cell_type": "markdown",
      "source": [
        "Eveluation on Test Data"
      ],
      "metadata": {
        "id": "-yz7F6JM3L3M"
      }
    },
    {
      "cell_type": "code",
      "source": [
        "mse, mae, r2 = test(model_implied, test_loader1,scaler1)\n",
        "print(f'Mean Squared Error (MSE): {mse:.4f}')\n",
        "print(f'Mean Absolute Error (MAE): {mae:.4f}')\n",
        "print(f'R² Score: {r2:.4f}')"
      ],
      "metadata": {
        "id": "W0_QJK6BzeXu"
      },
      "execution_count": null,
      "outputs": []
    },
    {
      "cell_type": "markdown",
      "source": [
        "Eveluation on Training Data"
      ],
      "metadata": {
        "id": "34ZlzLdN3Hua"
      }
    },
    {
      "cell_type": "code",
      "source": [
        "mse, mae, r2 = test(model_implied, train_loader1,scaler1)\n",
        "print(f'Mean Squared Error (MSE): {mse:.4f}')\n",
        "print(f'Mean Absolute Error (MAE): {mae:.4f}')\n",
        "print(f'R² Score: {r2:.4f}')"
      ],
      "metadata": {
        "id": "U6TKZ_kPzghQ"
      },
      "execution_count": null,
      "outputs": []
    }
  ]
}